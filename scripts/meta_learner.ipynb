{
 "cells": [
  {
   "cell_type": "code",
   "execution_count": 1,
   "id": "42accfc2",
   "metadata": {},
   "outputs": [],
   "source": [
    "import os\n",
    "import numpy as np\n",
    "import pandas as pd\n",
    "\n",
    "from sklearn.linear_model import LogisticRegression\n",
    "from sklearn.preprocessing import MinMaxScaler, StandardScaler\n",
    "from sklearn.pipeline import Pipeline\n",
    "\n",
    "\n",
    "# unpack files and read in meta learner X data\n",
    "path = '../ensemble/'\n",
    "train_files = [file for file in os.listdir(path) if 'train_' in file]\n",
    "test_files = [file for file in os.listdir(path) if 'test_' in file]\n",
    "model_files = [file for file in os.listdir(path) if 'models_' in file]\n",
    "\n",
    "\n",
    "# read in meta learner data\n",
    "def read_data(files):\n",
    "    df = pd.DataFrame()\n",
    "    for i in range(len(files)):\n",
    "        df = pd.concat([df,pd.read_csv(path + files[i])], axis=1)\n",
    "    return df\n",
    "\n",
    "X_train = read_data(train_files)\n",
    "X_test = read_data(test_files)\n",
    "\n",
    "\n",
    "# read in the labels and outcomes\n",
    "train_ids_labs = pd.read_csv('../objects/train_ids_labs.csv')\n",
    "test_ids_labs = pd.read_csv('../objects/test_ids_labs.csv')\n",
    "id_train, id_test = train_ids_labs['PATIENT_ID'], test_ids_labs['PATIENT_ID']\n",
    "y_train, y_test = train_ids_labs['dep'], test_ids_labs['dep']"
   ]
  },
  {
   "cell_type": "code",
   "execution_count": 2,
   "id": "9c0375cc",
   "metadata": {},
   "outputs": [
    {
     "data": {
      "text/html": [
       "<div>\n",
       "<style scoped>\n",
       "    .dataframe tbody tr th:only-of-type {\n",
       "        vertical-align: middle;\n",
       "    }\n",
       "\n",
       "    .dataframe tbody tr th {\n",
       "        vertical-align: top;\n",
       "    }\n",
       "\n",
       "    .dataframe thead th {\n",
       "        text-align: right;\n",
       "    }\n",
       "</style>\n",
       "<table border=\"1\" class=\"dataframe\">\n",
       "  <thead>\n",
       "    <tr style=\"text-align: right;\">\n",
       "      <th></th>\n",
       "      <th>entropy</th>\n",
       "      <th>iqrs</th>\n",
       "      <th>maxs</th>\n",
       "      <th>means</th>\n",
       "      <th>medians</th>\n",
       "      <th>mins</th>\n",
       "      <th>ranges</th>\n",
       "      <th>rmssds</th>\n",
       "      <th>sds</th>\n",
       "    </tr>\n",
       "  </thead>\n",
       "  <tbody>\n",
       "    <tr>\n",
       "      <th>0</th>\n",
       "      <td>0.055043</td>\n",
       "      <td>0.104521</td>\n",
       "      <td>0.028034</td>\n",
       "      <td>0.023958</td>\n",
       "      <td>0.020783</td>\n",
       "      <td>0.060612</td>\n",
       "      <td>0.082454</td>\n",
       "      <td>0.076952</td>\n",
       "      <td>0.102119</td>\n",
       "    </tr>\n",
       "    <tr>\n",
       "      <th>1</th>\n",
       "      <td>0.052605</td>\n",
       "      <td>0.072661</td>\n",
       "      <td>0.042279</td>\n",
       "      <td>0.032428</td>\n",
       "      <td>0.046397</td>\n",
       "      <td>0.050354</td>\n",
       "      <td>0.039848</td>\n",
       "      <td>0.059998</td>\n",
       "      <td>0.100598</td>\n",
       "    </tr>\n",
       "    <tr>\n",
       "      <th>2</th>\n",
       "      <td>0.100758</td>\n",
       "      <td>0.080296</td>\n",
       "      <td>0.021742</td>\n",
       "      <td>0.099563</td>\n",
       "      <td>0.062657</td>\n",
       "      <td>0.023645</td>\n",
       "      <td>0.074340</td>\n",
       "      <td>0.072682</td>\n",
       "      <td>0.072833</td>\n",
       "    </tr>\n",
       "    <tr>\n",
       "      <th>3</th>\n",
       "      <td>0.129793</td>\n",
       "      <td>0.121921</td>\n",
       "      <td>0.071868</td>\n",
       "      <td>0.065295</td>\n",
       "      <td>0.054835</td>\n",
       "      <td>0.074057</td>\n",
       "      <td>0.107329</td>\n",
       "      <td>0.174419</td>\n",
       "      <td>0.059332</td>\n",
       "    </tr>\n",
       "    <tr>\n",
       "      <th>4</th>\n",
       "      <td>0.062065</td>\n",
       "      <td>0.092424</td>\n",
       "      <td>0.049673</td>\n",
       "      <td>0.029979</td>\n",
       "      <td>0.019406</td>\n",
       "      <td>0.033278</td>\n",
       "      <td>0.090908</td>\n",
       "      <td>0.102249</td>\n",
       "      <td>0.069183</td>\n",
       "    </tr>\n",
       "  </tbody>\n",
       "</table>\n",
       "</div>"
      ],
      "text/plain": [
       "    entropy      iqrs      maxs     means   medians      mins    ranges  \\\n",
       "0  0.055043  0.104521  0.028034  0.023958  0.020783  0.060612  0.082454   \n",
       "1  0.052605  0.072661  0.042279  0.032428  0.046397  0.050354  0.039848   \n",
       "2  0.100758  0.080296  0.021742  0.099563  0.062657  0.023645  0.074340   \n",
       "3  0.129793  0.121921  0.071868  0.065295  0.054835  0.074057  0.107329   \n",
       "4  0.062065  0.092424  0.049673  0.029979  0.019406  0.033278  0.090908   \n",
       "\n",
       "     rmssds       sds  \n",
       "0  0.076952  0.102119  \n",
       "1  0.059998  0.100598  \n",
       "2  0.072682  0.072833  \n",
       "3  0.174419  0.059332  \n",
       "4  0.102249  0.069183  "
      ]
     },
     "execution_count": 2,
     "metadata": {},
     "output_type": "execute_result"
    }
   ],
   "source": [
    "X_train.head()"
   ]
  },
  {
   "cell_type": "code",
   "execution_count": 3,
   "id": "becfeb17",
   "metadata": {},
   "outputs": [
    {
     "data": {
      "text/html": [
       "<div>\n",
       "<style scoped>\n",
       "    .dataframe tbody tr th:only-of-type {\n",
       "        vertical-align: middle;\n",
       "    }\n",
       "\n",
       "    .dataframe tbody tr th {\n",
       "        vertical-align: top;\n",
       "    }\n",
       "\n",
       "    .dataframe thead th {\n",
       "        text-align: right;\n",
       "    }\n",
       "</style>\n",
       "<table border=\"1\" class=\"dataframe\">\n",
       "  <thead>\n",
       "    <tr style=\"text-align: right;\">\n",
       "      <th></th>\n",
       "      <th>means</th>\n",
       "      <th>medians</th>\n",
       "      <th>rmssds</th>\n",
       "      <th>sds</th>\n",
       "    </tr>\n",
       "  </thead>\n",
       "  <tbody>\n",
       "    <tr>\n",
       "      <th>0</th>\n",
       "      <td>0.023958</td>\n",
       "      <td>0.020783</td>\n",
       "      <td>0.076952</td>\n",
       "      <td>0.102119</td>\n",
       "    </tr>\n",
       "    <tr>\n",
       "      <th>1</th>\n",
       "      <td>0.032428</td>\n",
       "      <td>0.046397</td>\n",
       "      <td>0.059998</td>\n",
       "      <td>0.100598</td>\n",
       "    </tr>\n",
       "    <tr>\n",
       "      <th>2</th>\n",
       "      <td>0.099563</td>\n",
       "      <td>0.062657</td>\n",
       "      <td>0.072682</td>\n",
       "      <td>0.072833</td>\n",
       "    </tr>\n",
       "    <tr>\n",
       "      <th>3</th>\n",
       "      <td>0.065295</td>\n",
       "      <td>0.054835</td>\n",
       "      <td>0.174419</td>\n",
       "      <td>0.059332</td>\n",
       "    </tr>\n",
       "    <tr>\n",
       "      <th>4</th>\n",
       "      <td>0.029979</td>\n",
       "      <td>0.019406</td>\n",
       "      <td>0.102249</td>\n",
       "      <td>0.069183</td>\n",
       "    </tr>\n",
       "  </tbody>\n",
       "</table>\n",
       "</div>"
      ],
      "text/plain": [
       "      means   medians    rmssds       sds\n",
       "0  0.023958  0.020783  0.076952  0.102119\n",
       "1  0.032428  0.046397  0.059998  0.100598\n",
       "2  0.099563  0.062657  0.072682  0.072833\n",
       "3  0.065295  0.054835  0.174419  0.059332\n",
       "4  0.029979  0.019406  0.102249  0.069183"
      ]
     },
     "execution_count": 3,
     "metadata": {},
     "output_type": "execute_result"
    }
   ],
   "source": [
    "X_train.drop(['iqrs', 'entropy', 'maxs', 'mins', 'ranges'], axis=1, inplace=True)\n",
    "X_test.drop(['iqrs', 'entropy', 'maxs', 'mins', 'ranges'], axis=1, inplace=True)\n",
    "\n",
    "X_train.head()\n"
   ]
  },
  {
   "cell_type": "code",
   "execution_count": 4,
   "id": "59410eda",
   "metadata": {},
   "outputs": [
    {
     "name": "stdout",
     "output_type": "stream",
     "text": [
      "         means   medians    rmssds       sds\n",
      "mean  0.135654  0.136141  0.135603  0.137681\n",
      "std   0.160533  0.160835  0.088899  0.093038\n"
     ]
    },
    {
     "data": {
      "text/plain": [
       "array([[2.86858843, 1.94892595, 1.59883127, 0.60214135]])"
      ]
     },
     "execution_count": 4,
     "metadata": {},
     "output_type": "execute_result"
    }
   ],
   "source": [
    "# view the distributions of features to ensure they are on the same scale\n",
    "print(pd.DataFrame([X_train.mean(axis=0), X_train.std(axis=0)], index=['mean', 'std']))\n",
    "\n",
    "# train the meta learner\n",
    "model = Pipeline([\n",
    "    ('scaler', MinMaxScaler()),  # to get things on a probability distribution\n",
    "    ('logreg', LogisticRegression(random_state=123))  # Logistic Regression model\n",
    "])\n",
    "\n",
    "model.fit(X_train, y_train)\n",
    "model.named_steps['logreg'].coef_"
   ]
  },
  {
   "cell_type": "code",
   "execution_count": 5,
   "id": "85a2d0ba",
   "metadata": {},
   "outputs": [],
   "source": [
    "# extract the probs and actuals\n",
    "probs = model.predict_proba(X_test)[:,1]\n",
    "actuals = y_test\n",
    "\n",
    "\n",
    "# write to folder\n",
    "out = pd.DataFrame({'id': id_test, 'probs':probs, 'actuals':actuals})\n",
    "out.head()\n",
    "out.to_csv('../results/preds.csv', index=False)\n"
   ]
  },
  {
   "cell_type": "code",
   "execution_count": 6,
   "id": "21ca2a8d",
   "metadata": {},
   "outputs": [
    {
     "data": {
      "image/png": "[encoded data removed]",
      "text/plain": [
       "<Figure size 576x223.2 with 2 Axes>"
      ]
     },
     "metadata": {
      "needs_background": "light"
     },
     "output_type": "display_data"
    }
   ],
   "source": [
    "# # 1. Extract the logistic regression model from the pipeline\n",
    "# import shap\n",
    "# logreg = model.named_steps['logreg']\n",
    "# scaler = model.named_steps['scaler']\n",
    "\n",
    "# # 2. Scale the data manually to ensure SHAP values are calculated correctly\n",
    "# X_test_scaled = scaler.transform(X_test)\n",
    "\n",
    "# # 3. Initialize SHAP Explainer\n",
    "# explainer = shap.Explainer(logreg, X_test_scaled)\n",
    "\n",
    "# # 4. Calculate SHAP values\n",
    "# shap_values = explainer(X_test_scaled)\n",
    "\n",
    "# # Visualize SHAP summary plot\n",
    "# shap.summary_plot(shap_values, X_test, feature_names=X_test.columns)"
   ]
  },
  {
   "cell_type": "code",
   "execution_count": null,
   "id": "01186305",
   "metadata": {},
   "outputs": [],
   "source": []
  }
 ],
 "metadata": {
  "kernelspec": {
   "display_name": "Python 3 (ipykernel)",
   "language": "python",
   "name": "python3"
  },
  "language_info": {
   "codemirror_mode": {
    "name": "ipython",
    "version": 3
   },
   "file_extension": ".py",
   "mimetype": "text/x-python",
   "name": "python",
   "nbconvert_exporter": "python",
   "pygments_lexer": "ipython3",
   "version": "3.9.7"
  },
  "varInspector": {
   "cols": {
    "lenName": 16,
    "lenType": 16,
    "lenVar": 40
   },
   "kernels_config": {
    "python": {
     "delete_cmd_postfix": "",
     "delete_cmd_prefix": "del ",
     "library": "var_list.py",
     "varRefreshCmd": "print(var_dic_list())"
    },
    "r": {
     "delete_cmd_postfix": ") ",
     "delete_cmd_prefix": "rm(",
     "library": "var_list.r",
     "varRefreshCmd": "cat(var_dic_list()) "
    }
   },
   "position": {
    "height": "435.838px",
    "left": "1284.28px",
    "right": "20px",
    "top": "120px",
    "width": "441.179px"
   },
   "types_to_exclude": [
    "module",
    "function",
    "builtin_function_or_method",
    "instance",
    "_Feature"
   ],
   "window_display": true
  }
 },
 "nbformat": 4,
 "nbformat_minor": 5
}
